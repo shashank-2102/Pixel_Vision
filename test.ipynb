{
 "cells": [
  {
   "cell_type": "code",
   "execution_count": 1,
   "metadata": {},
   "outputs": [
    {
     "name": "stderr",
     "output_type": "stream",
     "text": [
      "C:\\Users\\shash\\AppData\\Local\\Packages\\PythonSoftwareFoundation.Python.3.10_qbz5n2kfra8p0\\LocalCache\\local-packages\\Python310\\site-packages\\tqdm\\auto.py:22: TqdmWarning: IProgress not found. Please update jupyter and ipywidgets. See https://ipywidgets.readthedocs.io/en/stable/user_install.html\n",
      "  from .autonotebook import tqdm as notebook_tqdm\n"
     ]
    }
   ],
   "source": [
    "from ultralytics import YOLO\n",
    "from roboflow import Roboflow\n"
   ]
  },
  {
   "cell_type": "code",
   "execution_count": 3,
   "metadata": {},
   "outputs": [
    {
     "name": "stdout",
     "output_type": "stream",
     "text": [
      "loading Roboflow workspace...\n",
      "loading Roboflow project...\n",
      "Downloading Dataset Version Zip in PixelVision-2 to yolov8: 100% [110921470 / 110921470] bytes\n"
     ]
    },
    {
     "name": "stderr",
     "output_type": "stream",
     "text": [
      "Extracting Dataset Version Zip to PixelVision-2 in yolov8:: 100%|██████████| 3270/3270 [00:03<00:00, 841.03it/s] \n"
     ]
    }
   ],
   "source": [
    "\n",
    "\n",
    "from roboflow import Roboflow\n",
    "rf = Roboflow(api_key=\"n775libs3rKlDFm5Apqn\")\n",
    "project = rf.workspace(\"shashank-prabhu-6u0ff\").project(\"pixelvision\")\n",
    "dataset = project.version(2).download(\"yolov8\")\n"
   ]
  },
  {
   "cell_type": "code",
   "execution_count": 6,
   "metadata": {},
   "outputs": [],
   "source": [
    "model = YOLO('yolov8s.pt') "
   ]
  },
  {
   "cell_type": "code",
   "execution_count": 7,
   "metadata": {},
   "outputs": [
    {
     "name": "stderr",
     "output_type": "stream",
     "text": [
      "Ultralytics YOLOv8.0.20  Python-3.10.11 torch-1.13.1+cu117 CUDA:0 (Quadro T1000 with Max-Q Design, 4096MiB)\n",
      "\u001b[34m\u001b[1myolo\\engine\\trainer: \u001b[0mtask=detect, mode=train, model=yolov8s.yaml, data=C:\\Users\\shash\\OneDrive - TU Eindhoven\\Shashank Prabhu University\\Projects\\PixelVision_MC\\PixelVision\\PixelVision-2\\data.yaml, epochs=10, patience=5, batch=-1, imgsz=640, save=True, cache=False, device=, workers=8, project=None, name=None, exist_ok=False, pretrained=False, optimizer=SGD, verbose=True, seed=0, deterministic=True, single_cls=False, image_weights=False, rect=False, cos_lr=False, close_mosaic=10, resume=False, overlap_mask=True, mask_ratio=4, dropout=False, val=True, save_json=False, save_hybrid=False, conf=0.001, iou=0.7, max_det=300, half=False, dnn=False, plots=False, source=ultralytics/assets/, show=False, save_txt=False, save_conf=False, save_crop=False, hide_labels=False, hide_conf=False, vid_stride=1, line_thickness=3, visualize=False, augment=False, agnostic_nms=False, classes=None, retina_masks=False, boxes=True, format=torchscript, keras=False, optimize=False, int8=False, dynamic=False, simplify=False, opset=17, workspace=4, nms=False, lr0=0.01, lrf=0.01, momentum=0.937, weight_decay=0.001, warmup_epochs=3.0, warmup_momentum=0.8, warmup_bias_lr=0.1, box=7.5, cls=0.5, dfl=1.5, fl_gamma=0.0, label_smoothing=0.0, nbs=64, hsv_h=0.015, hsv_s=0.7, hsv_v=0.4, degrees=0.0, translate=0.1, scale=0.5, shear=0.0, perspective=0.0, flipud=0.0, fliplr=0.5, mosaic=1.0, mixup=0.0, copy_paste=0.0, cfg=None, v5loader=False, save_dir=runs\\detect\\train15\n"
     ]
    },
    {
     "ename": "FileNotFoundError",
     "evalue": "\nDataset 'C:\\Users\\shash\\OneDrive - TU Eindhoven\\Shashank Prabhu University\\Projects\\PixelVision_MC\\PixelVision\\PixelVision-2\\data.yaml' not found ⚠️, missing paths ['C:\\\\Users\\\\shash\\\\OneDrive - TU Eindhoven\\\\Shashank Prabhu University\\\\Projects\\\\PixelVision_MC\\\\PixelVision\\\\datasets\\\\PixelVision-2\\\\valid\\\\images']",
     "output_type": "error",
     "traceback": [
      "\u001b[1;31m---------------------------------------------------------------------------\u001b[0m",
      "\u001b[1;31mFileNotFoundError\u001b[0m                         Traceback (most recent call last)",
      "Cell \u001b[1;32mIn[7], line 2\u001b[0m\n\u001b[0;32m      1\u001b[0m data_path \u001b[39m=\u001b[39m \u001b[39m'\u001b[39m\u001b[39mC:\u001b[39m\u001b[39m\\\\\u001b[39;00m\u001b[39mUsers\u001b[39m\u001b[39m\\\\\u001b[39;00m\u001b[39mshash\u001b[39m\u001b[39m\\\\\u001b[39;00m\u001b[39mOneDrive - TU Eindhoven\u001b[39m\u001b[39m\\\\\u001b[39;00m\u001b[39mShashank Prabhu University\u001b[39m\u001b[39m\\\\\u001b[39;00m\u001b[39mProjects\u001b[39m\u001b[39m\\\\\u001b[39;00m\u001b[39mPixelVision_MC\u001b[39m\u001b[39m\\\\\u001b[39;00m\u001b[39mPixelVision\u001b[39m\u001b[39m\\\\\u001b[39;00m\u001b[39mPixelVision-2\u001b[39m\u001b[39m\\\\\u001b[39;00m\u001b[39mdata.yaml\u001b[39m\u001b[39m'\u001b[39m\n\u001b[1;32m----> 2\u001b[0m model\u001b[39m.\u001b[39;49mtrain(data\u001b[39m=\u001b[39;49mdata_path, epochs\u001b[39m=\u001b[39;49m\u001b[39m10\u001b[39;49m, imgsz\u001b[39m=\u001b[39;49m\u001b[39m640\u001b[39;49m, patience\u001b[39m=\u001b[39;49m\u001b[39m5\u001b[39;49m, batch\u001b[39m=\u001b[39;49m\u001b[39m-\u001b[39;49m\u001b[39m1\u001b[39;49m, verbose\u001b[39m=\u001b[39;49m\u001b[39mTrue\u001b[39;49;00m)\n",
      "File \u001b[1;32m~\\AppData\\Local\\Packages\\PythonSoftwareFoundation.Python.3.10_qbz5n2kfra8p0\\LocalCache\\local-packages\\Python310\\site-packages\\ultralytics\\yolo\\engine\\model.py:203\u001b[0m, in \u001b[0;36mYOLO.train\u001b[1;34m(self, **kwargs)\u001b[0m\n\u001b[0;32m    200\u001b[0m \u001b[39mif\u001b[39;00m overrides\u001b[39m.\u001b[39mget(\u001b[39m\"\u001b[39m\u001b[39mresume\u001b[39m\u001b[39m\"\u001b[39m):\n\u001b[0;32m    201\u001b[0m     overrides[\u001b[39m\"\u001b[39m\u001b[39mresume\u001b[39m\u001b[39m\"\u001b[39m] \u001b[39m=\u001b[39m \u001b[39mself\u001b[39m\u001b[39m.\u001b[39mckpt_path\n\u001b[1;32m--> 203\u001b[0m \u001b[39mself\u001b[39m\u001b[39m.\u001b[39mtrainer \u001b[39m=\u001b[39m \u001b[39mself\u001b[39;49m\u001b[39m.\u001b[39;49mTrainerClass(overrides\u001b[39m=\u001b[39;49moverrides)\n\u001b[0;32m    204\u001b[0m \u001b[39mif\u001b[39;00m \u001b[39mnot\u001b[39;00m overrides\u001b[39m.\u001b[39mget(\u001b[39m\"\u001b[39m\u001b[39mresume\u001b[39m\u001b[39m\"\u001b[39m):  \u001b[39m# manually set model only if not resuming\u001b[39;00m\n\u001b[0;32m    205\u001b[0m     \u001b[39mself\u001b[39m\u001b[39m.\u001b[39mtrainer\u001b[39m.\u001b[39mmodel \u001b[39m=\u001b[39m \u001b[39mself\u001b[39m\u001b[39m.\u001b[39mtrainer\u001b[39m.\u001b[39mget_model(weights\u001b[39m=\u001b[39m\u001b[39mself\u001b[39m\u001b[39m.\u001b[39mmodel \u001b[39mif\u001b[39;00m \u001b[39mself\u001b[39m\u001b[39m.\u001b[39mckpt \u001b[39melse\u001b[39;00m \u001b[39mNone\u001b[39;00m, cfg\u001b[39m=\u001b[39m\u001b[39mself\u001b[39m\u001b[39m.\u001b[39mmodel\u001b[39m.\u001b[39myaml)\n",
      "File \u001b[1;32m~\\AppData\\Local\\Packages\\PythonSoftwareFoundation.Python.3.10_qbz5n2kfra8p0\\LocalCache\\local-packages\\Python310\\site-packages\\ultralytics\\yolo\\engine\\trainer.py:122\u001b[0m, in \u001b[0;36mBaseTrainer.__init__\u001b[1;34m(self, cfg, overrides)\u001b[0m\n\u001b[0;32m    120\u001b[0m \u001b[39mself\u001b[39m\u001b[39m.\u001b[39mdata \u001b[39m=\u001b[39m \u001b[39mself\u001b[39m\u001b[39m.\u001b[39margs\u001b[39m.\u001b[39mdata\n\u001b[0;32m    121\u001b[0m \u001b[39mif\u001b[39;00m \u001b[39mself\u001b[39m\u001b[39m.\u001b[39mdata\u001b[39m.\u001b[39mendswith(\u001b[39m\"\u001b[39m\u001b[39m.yaml\u001b[39m\u001b[39m\"\u001b[39m):\n\u001b[1;32m--> 122\u001b[0m     \u001b[39mself\u001b[39m\u001b[39m.\u001b[39mdata \u001b[39m=\u001b[39m check_det_dataset(\u001b[39mself\u001b[39;49m\u001b[39m.\u001b[39;49mdata)\n\u001b[0;32m    123\u001b[0m \u001b[39melif\u001b[39;00m \u001b[39mself\u001b[39m\u001b[39m.\u001b[39margs\u001b[39m.\u001b[39mtask \u001b[39m==\u001b[39m \u001b[39m'\u001b[39m\u001b[39mclassify\u001b[39m\u001b[39m'\u001b[39m:\n\u001b[0;32m    124\u001b[0m     \u001b[39mself\u001b[39m\u001b[39m.\u001b[39mdata \u001b[39m=\u001b[39m check_cls_dataset(\u001b[39mself\u001b[39m\u001b[39m.\u001b[39mdata)\n",
      "File \u001b[1;32m~\\AppData\\Local\\Packages\\PythonSoftwareFoundation.Python.3.10_qbz5n2kfra8p0\\LocalCache\\local-packages\\Python310\\site-packages\\ultralytics\\yolo\\data\\utils.py:237\u001b[0m, in \u001b[0;36mcheck_det_dataset\u001b[1;34m(dataset, autodownload)\u001b[0m\n\u001b[0;32m    235\u001b[0m     LOGGER\u001b[39m.\u001b[39mwarning(msg)\n\u001b[0;32m    236\u001b[0m \u001b[39melse\u001b[39;00m:\n\u001b[1;32m--> 237\u001b[0m     \u001b[39mraise\u001b[39;00m \u001b[39mFileNotFoundError\u001b[39;00m(msg)\n\u001b[0;32m    238\u001b[0m t \u001b[39m=\u001b[39m time\u001b[39m.\u001b[39mtime()\n\u001b[0;32m    239\u001b[0m \u001b[39mif\u001b[39;00m s\u001b[39m.\u001b[39mstartswith(\u001b[39m'\u001b[39m\u001b[39mhttp\u001b[39m\u001b[39m'\u001b[39m) \u001b[39mand\u001b[39;00m s\u001b[39m.\u001b[39mendswith(\u001b[39m'\u001b[39m\u001b[39m.zip\u001b[39m\u001b[39m'\u001b[39m):  \u001b[39m# URL\u001b[39;00m\n",
      "\u001b[1;31mFileNotFoundError\u001b[0m: \nDataset 'C:\\Users\\shash\\OneDrive - TU Eindhoven\\Shashank Prabhu University\\Projects\\PixelVision_MC\\PixelVision\\PixelVision-2\\data.yaml' not found ⚠️, missing paths ['C:\\\\Users\\\\shash\\\\OneDrive - TU Eindhoven\\\\Shashank Prabhu University\\\\Projects\\\\PixelVision_MC\\\\PixelVision\\\\datasets\\\\PixelVision-2\\\\valid\\\\images']"
     ]
    }
   ],
   "source": [
    "data_path = 'C:\\\\Users\\\\shash\\\\OneDrive - TU Eindhoven\\\\Shashank Prabhu University\\\\Projects\\\\PixelVision_MC\\\\PixelVision\\\\PixelVision-2\\\\data.yaml'\n",
    "model.train(data=data_path, epochs=10, imgsz=640, patience=5, batch=-1, verbose=True)\n"
   ]
  },
  {
   "cell_type": "code",
   "execution_count": 5,
   "metadata": {},
   "outputs": [
    {
     "name": "stdout",
     "output_type": "stream",
     "text": [
      "loading Roboflow workspace...\n",
      "loading Roboflow project...\n",
      "Dependency ultralytics<=8.0.20 is required but found version=8.0.134, to fix: `pip install ultralytics<=8.0.20`\n",
      "View the status of your deployment at: https://app.roboflow.com/shashank-prabhu-6u0ff/pixelvision/deploy/2\n",
      "Share your model with the world at: https://universe.roboflow.com/shashank-prabhu-6u0ff/pixelvision/model/2\n"
     ]
    }
   ],
   "source": [
    "from roboflow import Roboflow\n",
    "\n",
    "rf = Roboflow(api_key=\"n775libs3rKlDFm5Apqn\")\n",
    "project = rf.workspace(\"shashank-prabhu-6u0ff\").project(\"pixelvision\")\n",
    "project.version(2).deploy(model_type='yolov8', model_path='C:/Users/shash/OneDrive - TU Eindhoven/Shashank Prabhu University/Projects/PixelVision_MC/PixelVision/runs/detect/train9/')\n"
   ]
  },
  {
   "cell_type": "code",
   "execution_count": 7,
   "metadata": {},
   "outputs": [
    {
     "name": "stdout",
     "output_type": "stream",
     "text": [
      "Dependency ultralytics<=8.0.20 is required but found version=8.0.134, to fix: `pip install ultralytics<=8.0.20`\n",
      "View the status of your deployment at: https://app.roboflow.com/shashank-prabhu-6u0ff/pixelvision/deploy/2\n",
      "Share your model with the world at: https://universe.roboflow.com/shashank-prabhu-6u0ff/pixelvision/model/2\n"
     ]
    }
   ],
   "source": [
    "project.version(2).deploy(model_type='yolov8', model_path='C:/Users/shash/OneDrive - TU Eindhoven/Shashank Prabhu University/Projects/PixelVision_MC/PixelVision/runs/detect/train9/')"
   ]
  },
  {
   "cell_type": "code",
   "execution_count": 2,
   "metadata": {},
   "outputs": [
    {
     "ename": "NameError",
     "evalue": "name 'project' is not defined",
     "output_type": "error",
     "traceback": [
      "\u001b[1;31m---------------------------------------------------------------------------\u001b[0m",
      "\u001b[1;31mNameError\u001b[0m                                 Traceback (most recent call last)",
      "Cell \u001b[1;32mIn[2], line 1\u001b[0m\n\u001b[1;32m----> 1\u001b[0m version \u001b[39m=\u001b[39m project\u001b[39m.\u001b[39mversion(\u001b[39m2\u001b[39m)\n\u001b[0;32m      2\u001b[0m version\u001b[39m.\u001b[39mdeploy(\u001b[39m\"\u001b[39m\u001b[39myolov8\u001b[39m\u001b[39m\"\u001b[39m, \u001b[39m\"\u001b[39m\u001b[39mC:/Users/shash/OneDrive - TU Eindhoven/Shashank Prabhu University/Projects/PixelVision_MC/PixelVision/runs/detect/train9/\u001b[39m\u001b[39m\"\u001b[39m)\n",
      "\u001b[1;31mNameError\u001b[0m: name 'project' is not defined"
     ]
    }
   ],
   "source": [
    "version = project.version(2)\n",
    "version.deploy(\"yolov8\", \"C:/Users/shash/OneDrive - TU Eindhoven/Shashank Prabhu University/Projects/PixelVision_MC/PixelVision/runs/detect/train9/\")"
   ]
  }
 ],
 "metadata": {
  "kernelspec": {
   "display_name": "Python 3",
   "language": "python",
   "name": "python3"
  },
  "language_info": {
   "codemirror_mode": {
    "name": "ipython",
    "version": 3
   },
   "file_extension": ".py",
   "mimetype": "text/x-python",
   "name": "python",
   "nbconvert_exporter": "python",
   "pygments_lexer": "ipython3",
   "version": "3.10.11"
  },
  "orig_nbformat": 4
 },
 "nbformat": 4,
 "nbformat_minor": 2
}
